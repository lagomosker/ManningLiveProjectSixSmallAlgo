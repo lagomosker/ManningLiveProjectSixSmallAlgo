{
 "cells": [
  {
   "cell_type": "code",
   "execution_count": 28,
   "id": "identical-racing",
   "metadata": {},
   "outputs": [],
   "source": [
    "class BinaryNode:\n",
    "    def __init__(self, val):\n",
    "        self.value=val\n",
    "        self.left_child=None\n",
    "        self.right_child=None\n",
    "    \n",
    "    def add_left(self,left):\n",
    "        self.left_child=left\n",
    "    \n",
    "    def add_right(self, right):\n",
    "        self.right_child=right\n",
    "    \n",
    "    def __str__(self):\n",
    "        return \"%s: %s %s\\n\" %(self.value, self.left_child.value, self.right_child.value)\n",
    "    \n",
    "    \n",
    "    \n",
    "    "
   ]
  },
  {
   "cell_type": "code",
   "execution_count": null,
   "id": "suited-cable",
   "metadata": {},
   "outputs": [],
   "source": []
  },
  {
   "cell_type": "code",
   "execution_count": 24,
   "id": "terminal-carbon",
   "metadata": {},
   "outputs": [
    {
     "name": "stdout",
     "output_type": "stream",
     "text": [
      "Root: A B\n",
      "\n"
     ]
    }
   ],
   "source": [
    "test=BinaryNode(\"Root\")\n",
    "A=BinaryNode(\"A\")\n",
    "B=BinaryNode(\"B\")\n",
    "C=BinaryNode(\"C\")\n",
    "D=BinaryNode(\"D\")\n",
    "E=BinaryNode(\"E\")\n",
    "F=BinaryNode(\"F\")\n",
    "test.add_left(A)\n",
    "test.add_right(B)\n",
    "A.add_left(C)\n",
    "A.add_right(D)\n",
    "B.add_right(E)\n",
    "E.add_left(F)\n",
    "print(test)\n",
    "\n"
   ]
  },
  {
   "cell_type": "code",
   "execution_count": 26,
   "id": "informative-external",
   "metadata": {
    "scrolled": true
   },
   "outputs": [
    {
     "name": "stdout",
     "output_type": "stream",
     "text": [
      "A: C D\n",
      "\n"
     ]
    }
   ],
   "source": [
    "print (A)"
   ]
  },
  {
   "cell_type": "code",
   "execution_count": 27,
   "id": "diagnostic-boring",
   "metadata": {},
   "outputs": [
    {
     "name": "stdout",
     "output_type": "stream",
     "text": [
      "A: C D\n",
      "\n"
     ]
    }
   ],
   "source": [
    "print(A)"
   ]
  },
  {
   "cell_type": "code",
   "execution_count": null,
   "id": "bulgarian-holder",
   "metadata": {},
   "outputs": [],
   "source": []
  }
 ],
 "metadata": {
  "kernelspec": {
   "display_name": "Python 3",
   "language": "python",
   "name": "python3"
  },
  "language_info": {
   "codemirror_mode": {
    "name": "ipython",
    "version": 3
   },
   "file_extension": ".py",
   "mimetype": "text/x-python",
   "name": "python",
   "nbconvert_exporter": "python",
   "pygments_lexer": "ipython3",
   "version": "3.9.1"
  }
 },
 "nbformat": 4,
 "nbformat_minor": 5
}
