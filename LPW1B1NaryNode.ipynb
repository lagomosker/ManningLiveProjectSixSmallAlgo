{
 "cells": [
  {
   "cell_type": "code",
   "execution_count": 16,
   "id": "ecological-geology",
   "metadata": {},
   "outputs": [],
   "source": [
    "class NaryNode:\n",
    "    def __init__(self, value):\n",
    "        self.value=value\n",
    "        self.children=[]\n",
    "    \n",
    "    def add_child(self, child):\n",
    "        self.children.append(child)\n",
    "    \n",
    "    def __str__(self):\n",
    "        str_val=str(self.value)+ \":\"\n",
    "        for child in self.children:\n",
    "            if child is not None:\n",
    "                str_val+=\" \"+child.value\n",
    "        return str_val\n",
    "    \n",
    "            "
   ]
  },
  {
   "cell_type": "code",
   "execution_count": 17,
   "id": "psychological-dance",
   "metadata": {},
   "outputs": [],
   "source": [
    "Root=NaryNode(\"Root\")\n",
    "A=NaryNode(\"A\")\n",
    "B=NaryNode(\"B\")\n",
    "C=NaryNode(\"C\")\n",
    "D=NaryNode(\"D\")\n",
    "E=NaryNode(\"E\")\n",
    "F=NaryNode(\"F\")\n",
    "G=NaryNode(\"G\")\n",
    "H=NaryNode(\"G\")\n",
    "I=NaryNode(\"H\")\n",
    "Root.add_child(A)\n",
    "Root.add_child(B)\n",
    "Root.add_child(C)\n",
    "A.add_child(D)\n",
    "A.add_child(E)\n",
    "D.add_child(G)\n",
    "C.add_child(F)\n",
    "F.add_child(H)\n",
    "F.add_child(I)\n",
    "\n",
    "\n"
   ]
  },
  {
   "cell_type": "code",
   "execution_count": 19,
   "id": "asian-parade",
   "metadata": {},
   "outputs": [
    {
     "name": "stdout",
     "output_type": "stream",
     "text": [
      "A: D E\n",
      "Root: A B C\n",
      "B:\n"
     ]
    }
   ],
   "source": [
    "print(A)\n",
    "print(Root)\n",
    "print(B)"
   ]
  },
  {
   "cell_type": "code",
   "execution_count": null,
   "id": "organic-yield",
   "metadata": {},
   "outputs": [],
   "source": []
  }
 ],
 "metadata": {
  "kernelspec": {
   "display_name": "Python 3",
   "language": "python",
   "name": "python3"
  },
  "language_info": {
   "codemirror_mode": {
    "name": "ipython",
    "version": 3
   },
   "file_extension": ".py",
   "mimetype": "text/x-python",
   "name": "python",
   "nbconvert_exporter": "python",
   "pygments_lexer": "ipython3",
   "version": "3.9.1"
  }
 },
 "nbformat": 4,
 "nbformat_minor": 5
}
